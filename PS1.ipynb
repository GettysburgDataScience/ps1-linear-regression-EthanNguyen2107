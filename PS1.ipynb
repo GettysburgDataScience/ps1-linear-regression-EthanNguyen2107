{
 "cells": [
  {
   "attachments": {},
   "cell_type": "markdown",
   "metadata": {},
   "source": [
    "YOUR FULL NAME\n",
    "\n",
    " - Collaborator 1\n",
    " - Collaborator 2\n",
    " - etc"
   ]
  },
  {
   "attachments": {},
   "cell_type": "markdown",
   "metadata": {},
   "source": [
    "DS325, Gettysburg College, Professor Eatai Roth\n",
    "# Problem Set 1 - Linear Regression\n",
    "\n",
    "Due Friday Feb 13, 2025 11:30a\n",
    "\n",
    "Total pts: 20\n",
    "\n",
    "## IMPORTANT INSTRUCTIONS:\n",
    "\n",
    " - When you submit your code, make sure that every cell runs without returning an error.\n",
    " - Once you have the results you need, edit out any extraneous code and outputs.\n",
    " - Do not rewrite code if it doesn't need to be rewritten. For example, all the import statements you should need are in the first code block. Do not redo those in your analysis."
   ]
  },
  {
   "attachments": {},
   "cell_type": "markdown",
   "metadata": {},
   "source": [
    "## Problem 1\n",
    "\n",
    " - Fit a linear regression model to the following synthetic data.\n",
    " - Calculate R^2 and MSE for your best fit model."
   ]
  },
  {
   "cell_type": "code",
   "execution_count": 1,
   "metadata": {},
   "outputs": [],
   "source": [
    "import pandas as pd\n",
    "import numpy as np\n",
    "import sklearn as sk\n",
    "\n",
    "import matplotlib.pyplot as plt\n",
    "import seaborn as sns\n",
    "from sklearn.datasets import make_regression\n",
    "from sklearn.linear_model import LinearRegression\n",
    "from sklearn.model_selection import train_test_split\n",
    "from sklearn.metrics import mean_squared_error, r2_score\n",
    "\n"
   ]
  },
  {
   "cell_type": "code",
   "execution_count": 2,
   "metadata": {},
   "outputs": [
    {
     "data": {
      "text/html": [
       "<div>\n",
       "<style scoped>\n",
       "    .dataframe tbody tr th:only-of-type {\n",
       "        vertical-align: middle;\n",
       "    }\n",
       "\n",
       "    .dataframe tbody tr th {\n",
       "        vertical-align: top;\n",
       "    }\n",
       "\n",
       "    .dataframe thead th {\n",
       "        text-align: right;\n",
       "    }\n",
       "</style>\n",
       "<table border=\"1\" class=\"dataframe\">\n",
       "  <thead>\n",
       "    <tr style=\"text-align: right;\">\n",
       "      <th></th>\n",
       "      <th>x1</th>\n",
       "      <th>x2</th>\n",
       "      <th>x3</th>\n",
       "      <th>x4</th>\n",
       "      <th>x5</th>\n",
       "      <th>y</th>\n",
       "    </tr>\n",
       "  </thead>\n",
       "  <tbody>\n",
       "    <tr>\n",
       "      <th>0</th>\n",
       "      <td>1.624345</td>\n",
       "      <td>-0.611756</td>\n",
       "      <td>-0.528172</td>\n",
       "      <td>-1.072969</td>\n",
       "      <td>0.865408</td>\n",
       "      <td>28.865495</td>\n",
       "    </tr>\n",
       "    <tr>\n",
       "      <th>1</th>\n",
       "      <td>-2.301539</td>\n",
       "      <td>1.744812</td>\n",
       "      <td>-0.761207</td>\n",
       "      <td>0.319039</td>\n",
       "      <td>-0.249370</td>\n",
       "      <td>4.937580</td>\n",
       "    </tr>\n",
       "    <tr>\n",
       "      <th>2</th>\n",
       "      <td>1.462108</td>\n",
       "      <td>-2.060141</td>\n",
       "      <td>-0.322417</td>\n",
       "      <td>-0.384054</td>\n",
       "      <td>1.133769</td>\n",
       "      <td>-39.935140</td>\n",
       "    </tr>\n",
       "    <tr>\n",
       "      <th>3</th>\n",
       "      <td>-1.099891</td>\n",
       "      <td>-0.172428</td>\n",
       "      <td>-0.877858</td>\n",
       "      <td>0.042214</td>\n",
       "      <td>0.582815</td>\n",
       "      <td>-49.524568</td>\n",
       "    </tr>\n",
       "    <tr>\n",
       "      <th>4</th>\n",
       "      <td>-1.100619</td>\n",
       "      <td>1.144724</td>\n",
       "      <td>0.901591</td>\n",
       "      <td>0.502494</td>\n",
       "      <td>0.900856</td>\n",
       "      <td>244.382026</td>\n",
       "    </tr>\n",
       "    <tr>\n",
       "      <th>...</th>\n",
       "      <td>...</td>\n",
       "      <td>...</td>\n",
       "      <td>...</td>\n",
       "      <td>...</td>\n",
       "      <td>...</td>\n",
       "      <td>...</td>\n",
       "    </tr>\n",
       "    <tr>\n",
       "      <th>295</th>\n",
       "      <td>-0.081570</td>\n",
       "      <td>1.529248</td>\n",
       "      <td>0.686483</td>\n",
       "      <td>1.717089</td>\n",
       "      <td>-0.804277</td>\n",
       "      <td>343.244347</td>\n",
       "    </tr>\n",
       "    <tr>\n",
       "      <th>296</th>\n",
       "      <td>0.300254</td>\n",
       "      <td>-0.429596</td>\n",
       "      <td>0.805913</td>\n",
       "      <td>-0.219552</td>\n",
       "      <td>-0.251852</td>\n",
       "      <td>20.913333</td>\n",
       "    </tr>\n",
       "    <tr>\n",
       "      <th>297</th>\n",
       "      <td>-1.326490</td>\n",
       "      <td>0.308204</td>\n",
       "      <td>1.115489</td>\n",
       "      <td>1.008196</td>\n",
       "      <td>-3.016032</td>\n",
       "      <td>-8.753043</td>\n",
       "    </tr>\n",
       "    <tr>\n",
       "      <th>298</th>\n",
       "      <td>-1.619646</td>\n",
       "      <td>2.005141</td>\n",
       "      <td>-0.187626</td>\n",
       "      <td>-0.148941</td>\n",
       "      <td>1.165335</td>\n",
       "      <td>182.614426</td>\n",
       "    </tr>\n",
       "    <tr>\n",
       "      <th>299</th>\n",
       "      <td>0.196645</td>\n",
       "      <td>-0.632590</td>\n",
       "      <td>-0.209847</td>\n",
       "      <td>1.897161</td>\n",
       "      <td>-1.381391</td>\n",
       "      <td>85.990684</td>\n",
       "    </tr>\n",
       "  </tbody>\n",
       "</table>\n",
       "<p>300 rows × 6 columns</p>\n",
       "</div>"
      ],
      "text/plain": [
       "           x1        x2        x3        x4        x5           y\n",
       "0    1.624345 -0.611756 -0.528172 -1.072969  0.865408   28.865495\n",
       "1   -2.301539  1.744812 -0.761207  0.319039 -0.249370    4.937580\n",
       "2    1.462108 -2.060141 -0.322417 -0.384054  1.133769  -39.935140\n",
       "3   -1.099891 -0.172428 -0.877858  0.042214  0.582815  -49.524568\n",
       "4   -1.100619  1.144724  0.901591  0.502494  0.900856  244.382026\n",
       "..        ...       ...       ...       ...       ...         ...\n",
       "295 -0.081570  1.529248  0.686483  1.717089 -0.804277  343.244347\n",
       "296  0.300254 -0.429596  0.805913 -0.219552 -0.251852   20.913333\n",
       "297 -1.326490  0.308204  1.115489  1.008196 -3.016032   -8.753043\n",
       "298 -1.619646  2.005141 -0.187626 -0.148941  1.165335  182.614426\n",
       "299  0.196645 -0.632590 -0.209847  1.897161 -1.381391   85.990684\n",
       "\n",
       "[300 rows x 6 columns]"
      ]
     },
     "execution_count": 2,
     "metadata": {},
     "output_type": "execute_result"
    }
   ],
   "source": [
    "np.random.seed(1)\n",
    "bias = 20*np.random.randn()\n",
    "\n",
    "X, y, coef = sk.datasets.make_regression(n_samples=300, \n",
    "                                   n_features=5,    # n_features = 1 --> simple linear regression\n",
    "                                   noise=30, \n",
    "                                   bias = bias, \n",
    "                                   random_state=1, \n",
    "                                   shuffle = False, # samples will be in order\n",
    "                                   coef = True) \n",
    "\n",
    "column_names = [f'x{n+1}' for n in range(X.shape[1])]\n",
    "reg_df = pd.DataFrame(data = X, \n",
    "             columns = column_names)\n",
    "reg_df['y'] = y\n",
    "\n",
    "reg_df"
   ]
  },
  {
   "cell_type": "code",
   "execution_count": 3,
   "metadata": {},
   "outputs": [
    {
     "name": "stdout",
     "output_type": "stream",
     "text": [
      "Coefficients: [43.96162184 78.68330668 89.90061774 86.51604654 68.34523989]\n",
      "Intercept: 32.73554835281897\n",
      "MSE: 919.6610372814519\n",
      "R^2: 0.966532725340359\n"
     ]
    }
   ],
   "source": [
    "# Your code here. Add cells as needed.\n",
    "#Fit a Linear Regression Model\n",
    "model = LinearRegression()\n",
    "model.fit(X, y)\n",
    "\n",
    "# Predictions\n",
    "y_pred = model.predict(X)\n",
    "\n",
    "# Calculate Metrics\n",
    "mse = mean_squared_error(y, y_pred)\n",
    "r2 = r2_score(y, y_pred)\n",
    "\n",
    "# Model parameters:\n",
    "print(\"Coefficients:\", model.coef_)\n",
    "print(\"Intercept:\", model.intercept_)\n",
    "#Model MSE and R^2:\n",
    "print(\"MSE:\", mse)\n",
    "print(\"R^2:\", r2)"
   ]
  },
  {
   "attachments": {},
   "cell_type": "markdown",
   "metadata": {},
   "source": [
    "#### Your written answers here\n",
    "\n",
    "What are your model parameters?\n",
    " - \n",
    "\n",
    "What were your MSE and R^2?\n",
    " - \n",
    "\n"
   ]
  },
  {
   "attachments": {},
   "cell_type": "markdown",
   "metadata": {},
   "source": [
    "## Problem 2\n",
    "\n",
    "Multiple Regression with Synthetic Data and Co-linearity\n",
    "\n",
    " - Show the correlation matrix for the 10 variables and the target variable.\n",
    " - Fit a linear regression model to the following synthetic data.\n",
    " - Calculate R^2 and MSE for your best fit model."
   ]
  },
  {
   "cell_type": "code",
   "execution_count": 4,
   "metadata": {},
   "outputs": [
    {
     "data": {
      "image/png": "[encoded data removed]",
      "text/plain": [
       "<Figure size 640x480 with 1 Axes>"
      ]
     },
     "metadata": {},
     "output_type": "display_data"
    },
    {
     "name": "stdout",
     "output_type": "stream",
     "text": [
      "model coefficients: [100.54351296  68.09467682  39.08138322 -53.14977214  76.59451309\n",
      "  62.1462408  111.41635577   2.41736139   0.64834276 -74.00176706], 32.675459067012696\n",
      "MSE_test = 1006.93, MSE_train = 939.81\n",
      "R2_test = -0.04, R2_train = 0.06\n",
      "\n",
      "Best-fit Model:\n",
      "\ty = 32.68 + 100.54*x_1 + 68.09*x_2\n"
     ]
    }
   ],
   "source": [
    "np.random.seed(1)\n",
    "bias = 20*np.random.randn()\n",
    "\n",
    "X, y, coef = sk.datasets.make_regression(n_samples=300, \n",
    "                                   n_features=10,    # n_features = 1 --> simple linear regression\n",
    "                                   noise=30, \n",
    "                                   bias = bias, \n",
    "                                   n_informative = 6,\n",
    "                                   effective_rank = 4,\n",
    "                                   random_state=1, \n",
    "                                   shuffle = False, # samples will be in order\n",
    "                                   coef = True) \n",
    "\n",
    "column_names = [f'x{n+1}' for n in range(X.shape[1])]\n",
    "reg2_df = pd.DataFrame(data = X, \n",
    "             columns = column_names)\n",
    "reg2_df['y'] = y\n",
    "\n",
    "reg2_df\n",
    "\n",
    "np.random.seed(1)\n",
    "bias = 20*np.random.randn()\n",
    "\n",
    "X, y, coef = sk.datasets.make_regression(n_samples=300, \n",
    "                                   n_features=10,    # n_features = 1 --> simple linear regression\n",
    "                                   noise=30, \n",
    "                                   bias = bias, \n",
    "                                   n_informative = 6,\n",
    "                                   effective_rank = 4,\n",
    "                                   random_state=1, \n",
    "                                   shuffle = False, # samples will be in order\n",
    "                                   coef = True) \n",
    "\n",
    "column_names = [f'x{n+1}' for n in range(X.shape[1])]\n",
    "reg2_df = pd.DataFrame(data = X, \n",
    "             columns = column_names)\n",
    "reg2_df['y'] = y\n",
    "\n",
    "reg2_df\n",
    "\n",
    "# Uncomment the line below for an interactive figure\n",
    "from mpl_toolkits.mplot3d import Axes3D  \n",
    "\n",
    "fig = plt.figure()\n",
    "ax = fig.add_subplot(111, projection = '3d')\n",
    "\n",
    "ax.scatter(X[:,0], X[:,1], y, s=5, alpha = 0.5)\n",
    "\n",
    "ax.set_xlabel('x_1')\n",
    "ax.set_ylabel('x_2')\n",
    "ax.set_zlabel('y')\n",
    "\n",
    "plt.show()\n",
    "\n",
    "# Split the data into training and testing sets\n",
    "X_train, X_test, y_train, y_test = sk.model_selection.train_test_split(X, y, test_size=0.2, random_state=1)\n",
    "\n",
    "# Create and train the model\n",
    "model_LR = sk.linear_model.LinearRegression()\n",
    "model_LR.fit(X_train, y_train)\n",
    "\n",
    "# Make predictions\n",
    "y_pred_train = model_LR.predict(X_train)\n",
    "y_pred_test = model_LR.predict(X_test)\n",
    "y_pred = model_LR.predict(X)\n",
    "\n",
    "# Assess the model\n",
    "MSE_train = sk.metrics.mean_squared_error(y_train, y_pred_train)\n",
    "R2_train = model_LR.score(X_train, y_train)\n",
    "\n",
    "MSE_test = sk.metrics.mean_squared_error(y_test, y_pred_test)\n",
    "R2_test = model_LR.score(X_test, y_test)\n",
    "\n",
    "\n",
    "print(f'model coefficients: {model_LR.coef_}, {model_LR.intercept_}')\n",
    "print(f'MSE_test = {MSE_test:.2f}, MSE_train = {MSE_train:.2f}')\n",
    "print(f'R2_test = {R2_test:.2f}, R2_train = {R2_train:.2f}')\n",
    "\n",
    "model_LR.__dict__\n",
    "\n",
    "print(f'\\nBest-fit Model:\\n\\ty = {model_LR.intercept_:.2f} + {model_LR.coef_[0]:.2f}*x_1 + {model_LR.coef_[1]:.2f}*x_2')"
   ]
  },
  {
   "attachments": {},
   "cell_type": "markdown",
   "metadata": {},
   "source": [
    "#### Your written answers here\n",
    "\n",
    "What are your model parameters?\n",
    " - \n",
    "\n",
    "Which features (x1, x2...) were significant? Which were co-linear?\n",
    " - \n",
    " \n",
    "What were your MSE and R^2?\n",
    " - \n",
    "\n"
   ]
  },
  {
   "attachments": {},
   "cell_type": "markdown",
   "metadata": {},
   "source": [
    "## Problem 3\n",
    "\n",
    "For this problem, you'll using housing data from King County, Washington (included as kc_housing.csv).\n",
    "\n",
    "You should refer to the class notebook."
   ]
  },
  {
   "cell_type": "code",
   "execution_count": 5,
   "metadata": {},
   "outputs": [],
   "source": [
    "housing_df = pd.read_csv('kc_house_data.csv')"
   ]
  },
  {
   "attachments": {},
   "cell_type": "markdown",
   "metadata": {},
   "source": [
    "### a. \n",
    "\n",
    "**Do this part before part b and then don't go back and change your responses.**\n",
    "\n",
    "- Select three features to use for a multiple linear regression and justify your choices.\n",
    "- Use the StandardScalar to scale your features. Fit a linear regression using those three features. What is your $R^2$?\n",
    "- Plot predicted home values and actual home values, including a line representing perfect prediction.\n"
   ]
  },
  {
   "cell_type": "code",
   "execution_count": null,
   "metadata": {},
   "outputs": [],
   "source": [
    "# Your code here. Add cells as needed."
   ]
  },
  {
   "attachments": {},
   "cell_type": "markdown",
   "metadata": {},
   "source": [
    "#### Your written answers here\n",
    "Which features are you using and why?\n",
    " \n",
    " - Your written answer here."
   ]
  },
  {
   "attachments": {},
   "cell_type": "markdown",
   "metadata": {},
   "source": [
    "### b. \n",
    "- Create a training and testing data using all the features except for price (that's the target), date, and zipcode. Once you have the dataframe of your features, save a list of column labels, ```feature_names = x.columns```.\n",
    "- Use Lasso or Ridge regression to fit the model and calculate the $R^2$. Play around with $\\alpha$ until you get $R^2 > 0.65$. Keep in mind that price is in the range of \\$100k-3M and the scaled features will be in the range of -2 to 2, so $\\alpha$ should be a big number.\n",
    "- Get the coefficients of the Ridge or Lasso model; their order corresponds to the feature labels you saved earlier. Find the 3 biggest (absolute value) coefficients. Which features are they? Look up ```np.argsort()```; this function returns the indices of a list once it's been sorted. \n",
    "- Plot predicted vs actual home prices for the regularized model. "
   ]
  },
  {
   "cell_type": "code",
   "execution_count": null,
   "metadata": {},
   "outputs": [],
   "source": [
    "# Your code here. Add cells as needed."
   ]
  },
  {
   "attachments": {},
   "cell_type": "markdown",
   "metadata": {},
   "source": [
    "### Your written answers here\n",
    "Which regression did you use?\n",
    " - Your answer\n",
    "\n",
    "Does your regularized model look better than your MLR? How so?\n",
    " - Your answer"
   ]
  },
  {
   "attachments": {},
   "cell_type": "markdown",
   "metadata": {},
   "source": [
    "### c.\n",
    "It seems that our model over-valuates houses in the higher price range.\n",
    " - Split the data into homes below and above $1M sale price. \n",
    " - Fit a Lasso or Ridge model to each of the split data sets.\n",
    " - Plot predicted vs actual."
   ]
  },
  {
   "attachments": {},
   "cell_type": "markdown",
   "metadata": {},
   "source": [
    "<Your written answers>"
   ]
  },
  {
   "cell_type": "code",
   "execution_count": null,
   "metadata": {},
   "outputs": [],
   "source": [
    "# Your code here. Add cells as needed."
   ]
  },
  {
   "attachments": {},
   "cell_type": "markdown",
   "metadata": {},
   "source": [
    " ### Your written answers here\n",
    "\n",
    " What are the $R^2$ for the two models?\n",
    "\n",
    "  - Your answer\n",
    " \n"
   ]
  }
 ],
 "metadata": {
  "kernelspec": {
   "display_name": "datascience",
   "language": "python",
   "name": "python3"
  },
  "language_info": {
   "codemirror_mode": {
    "name": "ipython",
    "version": 3
   },
   "file_extension": ".py",
   "mimetype": "text/x-python",
   "name": "python",
   "nbconvert_exporter": "python",
   "pygments_lexer": "ipython3",
   "version": "3.12.4"
  },
  "orig_nbformat": 4
 },
 "nbformat": 4,
 "nbformat_minor": 2
}
